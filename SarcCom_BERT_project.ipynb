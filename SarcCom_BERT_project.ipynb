{
  "nbformat": 4,
  "nbformat_minor": 0,
  "metadata": {
    "colab": {
      "provenance": []
    },
    "kernelspec": {
      "name": "python3",
      "display_name": "Python 3"
    },
    "language_info": {
      "name": "python"
    },
    "accelerator": "GPU",
    "gpuClass": "standard",
    "widgets": {
      "application/vnd.jupyter.widget-state+json": {
        "be4c09b4dde64726afd28256527d86c9": {
          "model_module": "@jupyter-widgets/controls",
          "model_name": "HBoxModel",
          "model_module_version": "1.5.0",
          "state": {
            "_dom_classes": [],
            "_model_module": "@jupyter-widgets/controls",
            "_model_module_version": "1.5.0",
            "_model_name": "HBoxModel",
            "_view_count": null,
            "_view_module": "@jupyter-widgets/controls",
            "_view_module_version": "1.5.0",
            "_view_name": "HBoxView",
            "box_style": "",
            "children": [
              "IPY_MODEL_d3861ab3947c40edae6a5201cc0ccbf8",
              "IPY_MODEL_d8f0ea4630df4922a5fba51ced20a966",
              "IPY_MODEL_c30ba7368b7242a48449155ef96d3513"
            ],
            "layout": "IPY_MODEL_0b8645a667c14ef58db32ed35cb05d29"
          }
        },
        "d3861ab3947c40edae6a5201cc0ccbf8": {
          "model_module": "@jupyter-widgets/controls",
          "model_name": "HTMLModel",
          "model_module_version": "1.5.0",
          "state": {
            "_dom_classes": [],
            "_model_module": "@jupyter-widgets/controls",
            "_model_module_version": "1.5.0",
            "_model_name": "HTMLModel",
            "_view_count": null,
            "_view_module": "@jupyter-widgets/controls",
            "_view_module_version": "1.5.0",
            "_view_name": "HTMLView",
            "description": "",
            "description_tooltip": null,
            "layout": "IPY_MODEL_24a953115e6f449ea50052405628f024",
            "placeholder": "​",
            "style": "IPY_MODEL_a3980e00807f4809b4345d9cb6cc0c76",
            "value": "Downloading: 100%"
          }
        },
        "d8f0ea4630df4922a5fba51ced20a966": {
          "model_module": "@jupyter-widgets/controls",
          "model_name": "FloatProgressModel",
          "model_module_version": "1.5.0",
          "state": {
            "_dom_classes": [],
            "_model_module": "@jupyter-widgets/controls",
            "_model_module_version": "1.5.0",
            "_model_name": "FloatProgressModel",
            "_view_count": null,
            "_view_module": "@jupyter-widgets/controls",
            "_view_module_version": "1.5.0",
            "_view_name": "ProgressView",
            "bar_style": "success",
            "description": "",
            "description_tooltip": null,
            "layout": "IPY_MODEL_5437ea87aede4f448c141d6a3b8345e3",
            "max": 483,
            "min": 0,
            "orientation": "horizontal",
            "style": "IPY_MODEL_2fc999611d0e4da499541e851ca54235",
            "value": 483
          }
        },
        "c30ba7368b7242a48449155ef96d3513": {
          "model_module": "@jupyter-widgets/controls",
          "model_name": "HTMLModel",
          "model_module_version": "1.5.0",
          "state": {
            "_dom_classes": [],
            "_model_module": "@jupyter-widgets/controls",
            "_model_module_version": "1.5.0",
            "_model_name": "HTMLModel",
            "_view_count": null,
            "_view_module": "@jupyter-widgets/controls",
            "_view_module_version": "1.5.0",
            "_view_name": "HTMLView",
            "description": "",
            "description_tooltip": null,
            "layout": "IPY_MODEL_9d0450ac6158429189b5a099ef2880a8",
            "placeholder": "​",
            "style": "IPY_MODEL_dfb11b3b74c24be3b93eac743c259283",
            "value": " 483/483 [00:00&lt;00:00, 9.20kB/s]"
          }
        },
        "0b8645a667c14ef58db32ed35cb05d29": {
          "model_module": "@jupyter-widgets/base",
          "model_name": "LayoutModel",
          "model_module_version": "1.2.0",
          "state": {
            "_model_module": "@jupyter-widgets/base",
            "_model_module_version": "1.2.0",
            "_model_name": "LayoutModel",
            "_view_count": null,
            "_view_module": "@jupyter-widgets/base",
            "_view_module_version": "1.2.0",
            "_view_name": "LayoutView",
            "align_content": null,
            "align_items": null,
            "align_self": null,
            "border": null,
            "bottom": null,
            "display": null,
            "flex": null,
            "flex_flow": null,
            "grid_area": null,
            "grid_auto_columns": null,
            "grid_auto_flow": null,
            "grid_auto_rows": null,
            "grid_column": null,
            "grid_gap": null,
            "grid_row": null,
            "grid_template_areas": null,
            "grid_template_columns": null,
            "grid_template_rows": null,
            "height": null,
            "justify_content": null,
            "justify_items": null,
            "left": null,
            "margin": null,
            "max_height": null,
            "max_width": null,
            "min_height": null,
            "min_width": null,
            "object_fit": null,
            "object_position": null,
            "order": null,
            "overflow": null,
            "overflow_x": null,
            "overflow_y": null,
            "padding": null,
            "right": null,
            "top": null,
            "visibility": null,
            "width": null
          }
        },
        "24a953115e6f449ea50052405628f024": {
          "model_module": "@jupyter-widgets/base",
          "model_name": "LayoutModel",
          "model_module_version": "1.2.0",
          "state": {
            "_model_module": "@jupyter-widgets/base",
            "_model_module_version": "1.2.0",
            "_model_name": "LayoutModel",
            "_view_count": null,
            "_view_module": "@jupyter-widgets/base",
            "_view_module_version": "1.2.0",
            "_view_name": "LayoutView",
            "align_content": null,
            "align_items": null,
            "align_self": null,
            "border": null,
            "bottom": null,
            "display": null,
            "flex": null,
            "flex_flow": null,
            "grid_area": null,
            "grid_auto_columns": null,
            "grid_auto_flow": null,
            "grid_auto_rows": null,
            "grid_column": null,
            "grid_gap": null,
            "grid_row": null,
            "grid_template_areas": null,
            "grid_template_columns": null,
            "grid_template_rows": null,
            "height": null,
            "justify_content": null,
            "justify_items": null,
            "left": null,
            "margin": null,
            "max_height": null,
            "max_width": null,
            "min_height": null,
            "min_width": null,
            "object_fit": null,
            "object_position": null,
            "order": null,
            "overflow": null,
            "overflow_x": null,
            "overflow_y": null,
            "padding": null,
            "right": null,
            "top": null,
            "visibility": null,
            "width": null
          }
        },
        "a3980e00807f4809b4345d9cb6cc0c76": {
          "model_module": "@jupyter-widgets/controls",
          "model_name": "DescriptionStyleModel",
          "model_module_version": "1.5.0",
          "state": {
            "_model_module": "@jupyter-widgets/controls",
            "_model_module_version": "1.5.0",
            "_model_name": "DescriptionStyleModel",
            "_view_count": null,
            "_view_module": "@jupyter-widgets/base",
            "_view_module_version": "1.2.0",
            "_view_name": "StyleView",
            "description_width": ""
          }
        },
        "5437ea87aede4f448c141d6a3b8345e3": {
          "model_module": "@jupyter-widgets/base",
          "model_name": "LayoutModel",
          "model_module_version": "1.2.0",
          "state": {
            "_model_module": "@jupyter-widgets/base",
            "_model_module_version": "1.2.0",
            "_model_name": "LayoutModel",
            "_view_count": null,
            "_view_module": "@jupyter-widgets/base",
            "_view_module_version": "1.2.0",
            "_view_name": "LayoutView",
            "align_content": null,
            "align_items": null,
            "align_self": null,
            "border": null,
            "bottom": null,
            "display": null,
            "flex": null,
            "flex_flow": null,
            "grid_area": null,
            "grid_auto_columns": null,
            "grid_auto_flow": null,
            "grid_auto_rows": null,
            "grid_column": null,
            "grid_gap": null,
            "grid_row": null,
            "grid_template_areas": null,
            "grid_template_columns": null,
            "grid_template_rows": null,
            "height": null,
            "justify_content": null,
            "justify_items": null,
            "left": null,
            "margin": null,
            "max_height": null,
            "max_width": null,
            "min_height": null,
            "min_width": null,
            "object_fit": null,
            "object_position": null,
            "order": null,
            "overflow": null,
            "overflow_x": null,
            "overflow_y": null,
            "padding": null,
            "right": null,
            "top": null,
            "visibility": null,
            "width": null
          }
        },
        "2fc999611d0e4da499541e851ca54235": {
          "model_module": "@jupyter-widgets/controls",
          "model_name": "ProgressStyleModel",
          "model_module_version": "1.5.0",
          "state": {
            "_model_module": "@jupyter-widgets/controls",
            "_model_module_version": "1.5.0",
            "_model_name": "ProgressStyleModel",
            "_view_count": null,
            "_view_module": "@jupyter-widgets/base",
            "_view_module_version": "1.2.0",
            "_view_name": "StyleView",
            "bar_color": null,
            "description_width": ""
          }
        },
        "9d0450ac6158429189b5a099ef2880a8": {
          "model_module": "@jupyter-widgets/base",
          "model_name": "LayoutModel",
          "model_module_version": "1.2.0",
          "state": {
            "_model_module": "@jupyter-widgets/base",
            "_model_module_version": "1.2.0",
            "_model_name": "LayoutModel",
            "_view_count": null,
            "_view_module": "@jupyter-widgets/base",
            "_view_module_version": "1.2.0",
            "_view_name": "LayoutView",
            "align_content": null,
            "align_items": null,
            "align_self": null,
            "border": null,
            "bottom": null,
            "display": null,
            "flex": null,
            "flex_flow": null,
            "grid_area": null,
            "grid_auto_columns": null,
            "grid_auto_flow": null,
            "grid_auto_rows": null,
            "grid_column": null,
            "grid_gap": null,
            "grid_row": null,
            "grid_template_areas": null,
            "grid_template_columns": null,
            "grid_template_rows": null,
            "height": null,
            "justify_content": null,
            "justify_items": null,
            "left": null,
            "margin": null,
            "max_height": null,
            "max_width": null,
            "min_height": null,
            "min_width": null,
            "object_fit": null,
            "object_position": null,
            "order": null,
            "overflow": null,
            "overflow_x": null,
            "overflow_y": null,
            "padding": null,
            "right": null,
            "top": null,
            "visibility": null,
            "width": null
          }
        },
        "dfb11b3b74c24be3b93eac743c259283": {
          "model_module": "@jupyter-widgets/controls",
          "model_name": "DescriptionStyleModel",
          "model_module_version": "1.5.0",
          "state": {
            "_model_module": "@jupyter-widgets/controls",
            "_model_module_version": "1.5.0",
            "_model_name": "DescriptionStyleModel",
            "_view_count": null,
            "_view_module": "@jupyter-widgets/base",
            "_view_module_version": "1.2.0",
            "_view_name": "StyleView",
            "description_width": ""
          }
        },
        "0297f1d79829410c801f3f02768ba0cd": {
          "model_module": "@jupyter-widgets/controls",
          "model_name": "HBoxModel",
          "model_module_version": "1.5.0",
          "state": {
            "_dom_classes": [],
            "_model_module": "@jupyter-widgets/controls",
            "_model_module_version": "1.5.0",
            "_model_name": "HBoxModel",
            "_view_count": null,
            "_view_module": "@jupyter-widgets/controls",
            "_view_module_version": "1.5.0",
            "_view_name": "HBoxView",
            "box_style": "",
            "children": [
              "IPY_MODEL_527c619d9e814dfd9ac16ad05b596d79",
              "IPY_MODEL_61f888dc5aff4945b3799aae7580fc4d",
              "IPY_MODEL_6189ade215cd4a67852d458223dd87bb"
            ],
            "layout": "IPY_MODEL_159ccdba07034d04ba5cc31c5dd4d797"
          }
        },
        "527c619d9e814dfd9ac16ad05b596d79": {
          "model_module": "@jupyter-widgets/controls",
          "model_name": "HTMLModel",
          "model_module_version": "1.5.0",
          "state": {
            "_dom_classes": [],
            "_model_module": "@jupyter-widgets/controls",
            "_model_module_version": "1.5.0",
            "_model_name": "HTMLModel",
            "_view_count": null,
            "_view_module": "@jupyter-widgets/controls",
            "_view_module_version": "1.5.0",
            "_view_name": "HTMLView",
            "description": "",
            "description_tooltip": null,
            "layout": "IPY_MODEL_dcd7eb61bee64c2cae6d9a780581b5e2",
            "placeholder": "​",
            "style": "IPY_MODEL_93911eebaca948df92f9f52f89983f0a",
            "value": "Downloading: 100%"
          }
        },
        "61f888dc5aff4945b3799aae7580fc4d": {
          "model_module": "@jupyter-widgets/controls",
          "model_name": "FloatProgressModel",
          "model_module_version": "1.5.0",
          "state": {
            "_dom_classes": [],
            "_model_module": "@jupyter-widgets/controls",
            "_model_module_version": "1.5.0",
            "_model_name": "FloatProgressModel",
            "_view_count": null,
            "_view_module": "@jupyter-widgets/controls",
            "_view_module_version": "1.5.0",
            "_view_name": "ProgressView",
            "bar_style": "success",
            "description": "",
            "description_tooltip": null,
            "layout": "IPY_MODEL_ed8718ddfaec44d6a05ac7c2bf039e9c",
            "max": 267967963,
            "min": 0,
            "orientation": "horizontal",
            "style": "IPY_MODEL_3dd3e81cee824f90a8c74bafab786b6e",
            "value": 267967963
          }
        },
        "6189ade215cd4a67852d458223dd87bb": {
          "model_module": "@jupyter-widgets/controls",
          "model_name": "HTMLModel",
          "model_module_version": "1.5.0",
          "state": {
            "_dom_classes": [],
            "_model_module": "@jupyter-widgets/controls",
            "_model_module_version": "1.5.0",
            "_model_name": "HTMLModel",
            "_view_count": null,
            "_view_module": "@jupyter-widgets/controls",
            "_view_module_version": "1.5.0",
            "_view_name": "HTMLView",
            "description": "",
            "description_tooltip": null,
            "layout": "IPY_MODEL_b1fdffdfcab64cfca769b98eea10d620",
            "placeholder": "​",
            "style": "IPY_MODEL_8f0c1fd503124dbc9b7acf704643762f",
            "value": " 268M/268M [00:03&lt;00:00, 73.0MB/s]"
          }
        },
        "159ccdba07034d04ba5cc31c5dd4d797": {
          "model_module": "@jupyter-widgets/base",
          "model_name": "LayoutModel",
          "model_module_version": "1.2.0",
          "state": {
            "_model_module": "@jupyter-widgets/base",
            "_model_module_version": "1.2.0",
            "_model_name": "LayoutModel",
            "_view_count": null,
            "_view_module": "@jupyter-widgets/base",
            "_view_module_version": "1.2.0",
            "_view_name": "LayoutView",
            "align_content": null,
            "align_items": null,
            "align_self": null,
            "border": null,
            "bottom": null,
            "display": null,
            "flex": null,
            "flex_flow": null,
            "grid_area": null,
            "grid_auto_columns": null,
            "grid_auto_flow": null,
            "grid_auto_rows": null,
            "grid_column": null,
            "grid_gap": null,
            "grid_row": null,
            "grid_template_areas": null,
            "grid_template_columns": null,
            "grid_template_rows": null,
            "height": null,
            "justify_content": null,
            "justify_items": null,
            "left": null,
            "margin": null,
            "max_height": null,
            "max_width": null,
            "min_height": null,
            "min_width": null,
            "object_fit": null,
            "object_position": null,
            "order": null,
            "overflow": null,
            "overflow_x": null,
            "overflow_y": null,
            "padding": null,
            "right": null,
            "top": null,
            "visibility": null,
            "width": null
          }
        },
        "dcd7eb61bee64c2cae6d9a780581b5e2": {
          "model_module": "@jupyter-widgets/base",
          "model_name": "LayoutModel",
          "model_module_version": "1.2.0",
          "state": {
            "_model_module": "@jupyter-widgets/base",
            "_model_module_version": "1.2.0",
            "_model_name": "LayoutModel",
            "_view_count": null,
            "_view_module": "@jupyter-widgets/base",
            "_view_module_version": "1.2.0",
            "_view_name": "LayoutView",
            "align_content": null,
            "align_items": null,
            "align_self": null,
            "border": null,
            "bottom": null,
            "display": null,
            "flex": null,
            "flex_flow": null,
            "grid_area": null,
            "grid_auto_columns": null,
            "grid_auto_flow": null,
            "grid_auto_rows": null,
            "grid_column": null,
            "grid_gap": null,
            "grid_row": null,
            "grid_template_areas": null,
            "grid_template_columns": null,
            "grid_template_rows": null,
            "height": null,
            "justify_content": null,
            "justify_items": null,
            "left": null,
            "margin": null,
            "max_height": null,
            "max_width": null,
            "min_height": null,
            "min_width": null,
            "object_fit": null,
            "object_position": null,
            "order": null,
            "overflow": null,
            "overflow_x": null,
            "overflow_y": null,
            "padding": null,
            "right": null,
            "top": null,
            "visibility": null,
            "width": null
          }
        },
        "93911eebaca948df92f9f52f89983f0a": {
          "model_module": "@jupyter-widgets/controls",
          "model_name": "DescriptionStyleModel",
          "model_module_version": "1.5.0",
          "state": {
            "_model_module": "@jupyter-widgets/controls",
            "_model_module_version": "1.5.0",
            "_model_name": "DescriptionStyleModel",
            "_view_count": null,
            "_view_module": "@jupyter-widgets/base",
            "_view_module_version": "1.2.0",
            "_view_name": "StyleView",
            "description_width": ""
          }
        },
        "ed8718ddfaec44d6a05ac7c2bf039e9c": {
          "model_module": "@jupyter-widgets/base",
          "model_name": "LayoutModel",
          "model_module_version": "1.2.0",
          "state": {
            "_model_module": "@jupyter-widgets/base",
            "_model_module_version": "1.2.0",
            "_model_name": "LayoutModel",
            "_view_count": null,
            "_view_module": "@jupyter-widgets/base",
            "_view_module_version": "1.2.0",
            "_view_name": "LayoutView",
            "align_content": null,
            "align_items": null,
            "align_self": null,
            "border": null,
            "bottom": null,
            "display": null,
            "flex": null,
            "flex_flow": null,
            "grid_area": null,
            "grid_auto_columns": null,
            "grid_auto_flow": null,
            "grid_auto_rows": null,
            "grid_column": null,
            "grid_gap": null,
            "grid_row": null,
            "grid_template_areas": null,
            "grid_template_columns": null,
            "grid_template_rows": null,
            "height": null,
            "justify_content": null,
            "justify_items": null,
            "left": null,
            "margin": null,
            "max_height": null,
            "max_width": null,
            "min_height": null,
            "min_width": null,
            "object_fit": null,
            "object_position": null,
            "order": null,
            "overflow": null,
            "overflow_x": null,
            "overflow_y": null,
            "padding": null,
            "right": null,
            "top": null,
            "visibility": null,
            "width": null
          }
        },
        "3dd3e81cee824f90a8c74bafab786b6e": {
          "model_module": "@jupyter-widgets/controls",
          "model_name": "ProgressStyleModel",
          "model_module_version": "1.5.0",
          "state": {
            "_model_module": "@jupyter-widgets/controls",
            "_model_module_version": "1.5.0",
            "_model_name": "ProgressStyleModel",
            "_view_count": null,
            "_view_module": "@jupyter-widgets/base",
            "_view_module_version": "1.2.0",
            "_view_name": "StyleView",
            "bar_color": null,
            "description_width": ""
          }
        },
        "b1fdffdfcab64cfca769b98eea10d620": {
          "model_module": "@jupyter-widgets/base",
          "model_name": "LayoutModel",
          "model_module_version": "1.2.0",
          "state": {
            "_model_module": "@jupyter-widgets/base",
            "_model_module_version": "1.2.0",
            "_model_name": "LayoutModel",
            "_view_count": null,
            "_view_module": "@jupyter-widgets/base",
            "_view_module_version": "1.2.0",
            "_view_name": "LayoutView",
            "align_content": null,
            "align_items": null,
            "align_self": null,
            "border": null,
            "bottom": null,
            "display": null,
            "flex": null,
            "flex_flow": null,
            "grid_area": null,
            "grid_auto_columns": null,
            "grid_auto_flow": null,
            "grid_auto_rows": null,
            "grid_column": null,
            "grid_gap": null,
            "grid_row": null,
            "grid_template_areas": null,
            "grid_template_columns": null,
            "grid_template_rows": null,
            "height": null,
            "justify_content": null,
            "justify_items": null,
            "left": null,
            "margin": null,
            "max_height": null,
            "max_width": null,
            "min_height": null,
            "min_width": null,
            "object_fit": null,
            "object_position": null,
            "order": null,
            "overflow": null,
            "overflow_x": null,
            "overflow_y": null,
            "padding": null,
            "right": null,
            "top": null,
            "visibility": null,
            "width": null
          }
        },
        "8f0c1fd503124dbc9b7acf704643762f": {
          "model_module": "@jupyter-widgets/controls",
          "model_name": "DescriptionStyleModel",
          "model_module_version": "1.5.0",
          "state": {
            "_model_module": "@jupyter-widgets/controls",
            "_model_module_version": "1.5.0",
            "_model_name": "DescriptionStyleModel",
            "_view_count": null,
            "_view_module": "@jupyter-widgets/base",
            "_view_module_version": "1.2.0",
            "_view_name": "StyleView",
            "description_width": ""
          }
        },
        "64c793ffde0941a7a16702a201fd6e73": {
          "model_module": "@jupyter-widgets/controls",
          "model_name": "HBoxModel",
          "model_module_version": "1.5.0",
          "state": {
            "_dom_classes": [],
            "_model_module": "@jupyter-widgets/controls",
            "_model_module_version": "1.5.0",
            "_model_name": "HBoxModel",
            "_view_count": null,
            "_view_module": "@jupyter-widgets/controls",
            "_view_module_version": "1.5.0",
            "_view_name": "HBoxView",
            "box_style": "",
            "children": [
              "IPY_MODEL_e108874d098e43e99e44e15e65e25071",
              "IPY_MODEL_fb7f68d35021410abd8e407566455689",
              "IPY_MODEL_f0f97389d85e45c2bfc68a284b9747a4"
            ],
            "layout": "IPY_MODEL_62ee28c45f834231b5c46ec7de43bff6"
          }
        },
        "e108874d098e43e99e44e15e65e25071": {
          "model_module": "@jupyter-widgets/controls",
          "model_name": "HTMLModel",
          "model_module_version": "1.5.0",
          "state": {
            "_dom_classes": [],
            "_model_module": "@jupyter-widgets/controls",
            "_model_module_version": "1.5.0",
            "_model_name": "HTMLModel",
            "_view_count": null,
            "_view_module": "@jupyter-widgets/controls",
            "_view_module_version": "1.5.0",
            "_view_name": "HTMLView",
            "description": "",
            "description_tooltip": null,
            "layout": "IPY_MODEL_814864a3c4fb408f9cd282d14c2a548e",
            "placeholder": "​",
            "style": "IPY_MODEL_4d0bcf23f87d49169f332081b190556f",
            "value": "Downloading: 100%"
          }
        },
        "fb7f68d35021410abd8e407566455689": {
          "model_module": "@jupyter-widgets/controls",
          "model_name": "FloatProgressModel",
          "model_module_version": "1.5.0",
          "state": {
            "_dom_classes": [],
            "_model_module": "@jupyter-widgets/controls",
            "_model_module_version": "1.5.0",
            "_model_name": "FloatProgressModel",
            "_view_count": null,
            "_view_module": "@jupyter-widgets/controls",
            "_view_module_version": "1.5.0",
            "_view_name": "ProgressView",
            "bar_style": "success",
            "description": "",
            "description_tooltip": null,
            "layout": "IPY_MODEL_aa7f902df64e46fb9127bf4f8f70d506",
            "max": 231508,
            "min": 0,
            "orientation": "horizontal",
            "style": "IPY_MODEL_a79ad11a0dd44d3191dbe3076066b00b",
            "value": 231508
          }
        },
        "f0f97389d85e45c2bfc68a284b9747a4": {
          "model_module": "@jupyter-widgets/controls",
          "model_name": "HTMLModel",
          "model_module_version": "1.5.0",
          "state": {
            "_dom_classes": [],
            "_model_module": "@jupyter-widgets/controls",
            "_model_module_version": "1.5.0",
            "_model_name": "HTMLModel",
            "_view_count": null,
            "_view_module": "@jupyter-widgets/controls",
            "_view_module_version": "1.5.0",
            "_view_name": "HTMLView",
            "description": "",
            "description_tooltip": null,
            "layout": "IPY_MODEL_c14cd230a73b460797ede49b8d1c46ca",
            "placeholder": "​",
            "style": "IPY_MODEL_4d0ea48faf75411282624958d8e83726",
            "value": " 232k/232k [00:00&lt;00:00, 261kB/s]"
          }
        },
        "62ee28c45f834231b5c46ec7de43bff6": {
          "model_module": "@jupyter-widgets/base",
          "model_name": "LayoutModel",
          "model_module_version": "1.2.0",
          "state": {
            "_model_module": "@jupyter-widgets/base",
            "_model_module_version": "1.2.0",
            "_model_name": "LayoutModel",
            "_view_count": null,
            "_view_module": "@jupyter-widgets/base",
            "_view_module_version": "1.2.0",
            "_view_name": "LayoutView",
            "align_content": null,
            "align_items": null,
            "align_self": null,
            "border": null,
            "bottom": null,
            "display": null,
            "flex": null,
            "flex_flow": null,
            "grid_area": null,
            "grid_auto_columns": null,
            "grid_auto_flow": null,
            "grid_auto_rows": null,
            "grid_column": null,
            "grid_gap": null,
            "grid_row": null,
            "grid_template_areas": null,
            "grid_template_columns": null,
            "grid_template_rows": null,
            "height": null,
            "justify_content": null,
            "justify_items": null,
            "left": null,
            "margin": null,
            "max_height": null,
            "max_width": null,
            "min_height": null,
            "min_width": null,
            "object_fit": null,
            "object_position": null,
            "order": null,
            "overflow": null,
            "overflow_x": null,
            "overflow_y": null,
            "padding": null,
            "right": null,
            "top": null,
            "visibility": null,
            "width": null
          }
        },
        "814864a3c4fb408f9cd282d14c2a548e": {
          "model_module": "@jupyter-widgets/base",
          "model_name": "LayoutModel",
          "model_module_version": "1.2.0",
          "state": {
            "_model_module": "@jupyter-widgets/base",
            "_model_module_version": "1.2.0",
            "_model_name": "LayoutModel",
            "_view_count": null,
            "_view_module": "@jupyter-widgets/base",
            "_view_module_version": "1.2.0",
            "_view_name": "LayoutView",
            "align_content": null,
            "align_items": null,
            "align_self": null,
            "border": null,
            "bottom": null,
            "display": null,
            "flex": null,
            "flex_flow": null,
            "grid_area": null,
            "grid_auto_columns": null,
            "grid_auto_flow": null,
            "grid_auto_rows": null,
            "grid_column": null,
            "grid_gap": null,
            "grid_row": null,
            "grid_template_areas": null,
            "grid_template_columns": null,
            "grid_template_rows": null,
            "height": null,
            "justify_content": null,
            "justify_items": null,
            "left": null,
            "margin": null,
            "max_height": null,
            "max_width": null,
            "min_height": null,
            "min_width": null,
            "object_fit": null,
            "object_position": null,
            "order": null,
            "overflow": null,
            "overflow_x": null,
            "overflow_y": null,
            "padding": null,
            "right": null,
            "top": null,
            "visibility": null,
            "width": null
          }
        },
        "4d0bcf23f87d49169f332081b190556f": {
          "model_module": "@jupyter-widgets/controls",
          "model_name": "DescriptionStyleModel",
          "model_module_version": "1.5.0",
          "state": {
            "_model_module": "@jupyter-widgets/controls",
            "_model_module_version": "1.5.0",
            "_model_name": "DescriptionStyleModel",
            "_view_count": null,
            "_view_module": "@jupyter-widgets/base",
            "_view_module_version": "1.2.0",
            "_view_name": "StyleView",
            "description_width": ""
          }
        },
        "aa7f902df64e46fb9127bf4f8f70d506": {
          "model_module": "@jupyter-widgets/base",
          "model_name": "LayoutModel",
          "model_module_version": "1.2.0",
          "state": {
            "_model_module": "@jupyter-widgets/base",
            "_model_module_version": "1.2.0",
            "_model_name": "LayoutModel",
            "_view_count": null,
            "_view_module": "@jupyter-widgets/base",
            "_view_module_version": "1.2.0",
            "_view_name": "LayoutView",
            "align_content": null,
            "align_items": null,
            "align_self": null,
            "border": null,
            "bottom": null,
            "display": null,
            "flex": null,
            "flex_flow": null,
            "grid_area": null,
            "grid_auto_columns": null,
            "grid_auto_flow": null,
            "grid_auto_rows": null,
            "grid_column": null,
            "grid_gap": null,
            "grid_row": null,
            "grid_template_areas": null,
            "grid_template_columns": null,
            "grid_template_rows": null,
            "height": null,
            "justify_content": null,
            "justify_items": null,
            "left": null,
            "margin": null,
            "max_height": null,
            "max_width": null,
            "min_height": null,
            "min_width": null,
            "object_fit": null,
            "object_position": null,
            "order": null,
            "overflow": null,
            "overflow_x": null,
            "overflow_y": null,
            "padding": null,
            "right": null,
            "top": null,
            "visibility": null,
            "width": null
          }
        },
        "a79ad11a0dd44d3191dbe3076066b00b": {
          "model_module": "@jupyter-widgets/controls",
          "model_name": "ProgressStyleModel",
          "model_module_version": "1.5.0",
          "state": {
            "_model_module": "@jupyter-widgets/controls",
            "_model_module_version": "1.5.0",
            "_model_name": "ProgressStyleModel",
            "_view_count": null,
            "_view_module": "@jupyter-widgets/base",
            "_view_module_version": "1.2.0",
            "_view_name": "StyleView",
            "bar_color": null,
            "description_width": ""
          }
        },
        "c14cd230a73b460797ede49b8d1c46ca": {
          "model_module": "@jupyter-widgets/base",
          "model_name": "LayoutModel",
          "model_module_version": "1.2.0",
          "state": {
            "_model_module": "@jupyter-widgets/base",
            "_model_module_version": "1.2.0",
            "_model_name": "LayoutModel",
            "_view_count": null,
            "_view_module": "@jupyter-widgets/base",
            "_view_module_version": "1.2.0",
            "_view_name": "LayoutView",
            "align_content": null,
            "align_items": null,
            "align_self": null,
            "border": null,
            "bottom": null,
            "display": null,
            "flex": null,
            "flex_flow": null,
            "grid_area": null,
            "grid_auto_columns": null,
            "grid_auto_flow": null,
            "grid_auto_rows": null,
            "grid_column": null,
            "grid_gap": null,
            "grid_row": null,
            "grid_template_areas": null,
            "grid_template_columns": null,
            "grid_template_rows": null,
            "height": null,
            "justify_content": null,
            "justify_items": null,
            "left": null,
            "margin": null,
            "max_height": null,
            "max_width": null,
            "min_height": null,
            "min_width": null,
            "object_fit": null,
            "object_position": null,
            "order": null,
            "overflow": null,
            "overflow_x": null,
            "overflow_y": null,
            "padding": null,
            "right": null,
            "top": null,
            "visibility": null,
            "width": null
          }
        },
        "4d0ea48faf75411282624958d8e83726": {
          "model_module": "@jupyter-widgets/controls",
          "model_name": "DescriptionStyleModel",
          "model_module_version": "1.5.0",
          "state": {
            "_model_module": "@jupyter-widgets/controls",
            "_model_module_version": "1.5.0",
            "_model_name": "DescriptionStyleModel",
            "_view_count": null,
            "_view_module": "@jupyter-widgets/base",
            "_view_module_version": "1.2.0",
            "_view_name": "StyleView",
            "description_width": ""
          }
        },
        "b6bf9b1999ef4bb29fac1b48ee34fee3": {
          "model_module": "@jupyter-widgets/controls",
          "model_name": "HBoxModel",
          "model_module_version": "1.5.0",
          "state": {
            "_dom_classes": [],
            "_model_module": "@jupyter-widgets/controls",
            "_model_module_version": "1.5.0",
            "_model_name": "HBoxModel",
            "_view_count": null,
            "_view_module": "@jupyter-widgets/controls",
            "_view_module_version": "1.5.0",
            "_view_name": "HBoxView",
            "box_style": "",
            "children": [
              "IPY_MODEL_44cf55a31d224af8ad99813e4cc3f638",
              "IPY_MODEL_d8f3f2b9b0e6421590a918fd9eabd04e",
              "IPY_MODEL_87e5aed0e9214beba4898d277ced4fe4"
            ],
            "layout": "IPY_MODEL_a69d3621e97242ddb74343ff5d3afda4"
          }
        },
        "44cf55a31d224af8ad99813e4cc3f638": {
          "model_module": "@jupyter-widgets/controls",
          "model_name": "HTMLModel",
          "model_module_version": "1.5.0",
          "state": {
            "_dom_classes": [],
            "_model_module": "@jupyter-widgets/controls",
            "_model_module_version": "1.5.0",
            "_model_name": "HTMLModel",
            "_view_count": null,
            "_view_module": "@jupyter-widgets/controls",
            "_view_module_version": "1.5.0",
            "_view_name": "HTMLView",
            "description": "",
            "description_tooltip": null,
            "layout": "IPY_MODEL_2c55010ac0b9475aae5b19d16581e0fc",
            "placeholder": "​",
            "style": "IPY_MODEL_23c3c665557a4461ac3edbc44d4eb242",
            "value": "Downloading: 100%"
          }
        },
        "d8f3f2b9b0e6421590a918fd9eabd04e": {
          "model_module": "@jupyter-widgets/controls",
          "model_name": "FloatProgressModel",
          "model_module_version": "1.5.0",
          "state": {
            "_dom_classes": [],
            "_model_module": "@jupyter-widgets/controls",
            "_model_module_version": "1.5.0",
            "_model_name": "FloatProgressModel",
            "_view_count": null,
            "_view_module": "@jupyter-widgets/controls",
            "_view_module_version": "1.5.0",
            "_view_name": "ProgressView",
            "bar_style": "success",
            "description": "",
            "description_tooltip": null,
            "layout": "IPY_MODEL_4b0c2b5d2cde45f49f07bbe29186fd22",
            "max": 28,
            "min": 0,
            "orientation": "horizontal",
            "style": "IPY_MODEL_204a211a8bce463aa58053ebeb93d1f0",
            "value": 28
          }
        },
        "87e5aed0e9214beba4898d277ced4fe4": {
          "model_module": "@jupyter-widgets/controls",
          "model_name": "HTMLModel",
          "model_module_version": "1.5.0",
          "state": {
            "_dom_classes": [],
            "_model_module": "@jupyter-widgets/controls",
            "_model_module_version": "1.5.0",
            "_model_name": "HTMLModel",
            "_view_count": null,
            "_view_module": "@jupyter-widgets/controls",
            "_view_module_version": "1.5.0",
            "_view_name": "HTMLView",
            "description": "",
            "description_tooltip": null,
            "layout": "IPY_MODEL_7fb7246096e54051b3f1a855c6acbbc7",
            "placeholder": "​",
            "style": "IPY_MODEL_51cd1649cb9f4e24a888bce5175aabc7",
            "value": " 28.0/28.0 [00:00&lt;00:00, 322B/s]"
          }
        },
        "a69d3621e97242ddb74343ff5d3afda4": {
          "model_module": "@jupyter-widgets/base",
          "model_name": "LayoutModel",
          "model_module_version": "1.2.0",
          "state": {
            "_model_module": "@jupyter-widgets/base",
            "_model_module_version": "1.2.0",
            "_model_name": "LayoutModel",
            "_view_count": null,
            "_view_module": "@jupyter-widgets/base",
            "_view_module_version": "1.2.0",
            "_view_name": "LayoutView",
            "align_content": null,
            "align_items": null,
            "align_self": null,
            "border": null,
            "bottom": null,
            "display": null,
            "flex": null,
            "flex_flow": null,
            "grid_area": null,
            "grid_auto_columns": null,
            "grid_auto_flow": null,
            "grid_auto_rows": null,
            "grid_column": null,
            "grid_gap": null,
            "grid_row": null,
            "grid_template_areas": null,
            "grid_template_columns": null,
            "grid_template_rows": null,
            "height": null,
            "justify_content": null,
            "justify_items": null,
            "left": null,
            "margin": null,
            "max_height": null,
            "max_width": null,
            "min_height": null,
            "min_width": null,
            "object_fit": null,
            "object_position": null,
            "order": null,
            "overflow": null,
            "overflow_x": null,
            "overflow_y": null,
            "padding": null,
            "right": null,
            "top": null,
            "visibility": null,
            "width": null
          }
        },
        "2c55010ac0b9475aae5b19d16581e0fc": {
          "model_module": "@jupyter-widgets/base",
          "model_name": "LayoutModel",
          "model_module_version": "1.2.0",
          "state": {
            "_model_module": "@jupyter-widgets/base",
            "_model_module_version": "1.2.0",
            "_model_name": "LayoutModel",
            "_view_count": null,
            "_view_module": "@jupyter-widgets/base",
            "_view_module_version": "1.2.0",
            "_view_name": "LayoutView",
            "align_content": null,
            "align_items": null,
            "align_self": null,
            "border": null,
            "bottom": null,
            "display": null,
            "flex": null,
            "flex_flow": null,
            "grid_area": null,
            "grid_auto_columns": null,
            "grid_auto_flow": null,
            "grid_auto_rows": null,
            "grid_column": null,
            "grid_gap": null,
            "grid_row": null,
            "grid_template_areas": null,
            "grid_template_columns": null,
            "grid_template_rows": null,
            "height": null,
            "justify_content": null,
            "justify_items": null,
            "left": null,
            "margin": null,
            "max_height": null,
            "max_width": null,
            "min_height": null,
            "min_width": null,
            "object_fit": null,
            "object_position": null,
            "order": null,
            "overflow": null,
            "overflow_x": null,
            "overflow_y": null,
            "padding": null,
            "right": null,
            "top": null,
            "visibility": null,
            "width": null
          }
        },
        "23c3c665557a4461ac3edbc44d4eb242": {
          "model_module": "@jupyter-widgets/controls",
          "model_name": "DescriptionStyleModel",
          "model_module_version": "1.5.0",
          "state": {
            "_model_module": "@jupyter-widgets/controls",
            "_model_module_version": "1.5.0",
            "_model_name": "DescriptionStyleModel",
            "_view_count": null,
            "_view_module": "@jupyter-widgets/base",
            "_view_module_version": "1.2.0",
            "_view_name": "StyleView",
            "description_width": ""
          }
        },
        "4b0c2b5d2cde45f49f07bbe29186fd22": {
          "model_module": "@jupyter-widgets/base",
          "model_name": "LayoutModel",
          "model_module_version": "1.2.0",
          "state": {
            "_model_module": "@jupyter-widgets/base",
            "_model_module_version": "1.2.0",
            "_model_name": "LayoutModel",
            "_view_count": null,
            "_view_module": "@jupyter-widgets/base",
            "_view_module_version": "1.2.0",
            "_view_name": "LayoutView",
            "align_content": null,
            "align_items": null,
            "align_self": null,
            "border": null,
            "bottom": null,
            "display": null,
            "flex": null,
            "flex_flow": null,
            "grid_area": null,
            "grid_auto_columns": null,
            "grid_auto_flow": null,
            "grid_auto_rows": null,
            "grid_column": null,
            "grid_gap": null,
            "grid_row": null,
            "grid_template_areas": null,
            "grid_template_columns": null,
            "grid_template_rows": null,
            "height": null,
            "justify_content": null,
            "justify_items": null,
            "left": null,
            "margin": null,
            "max_height": null,
            "max_width": null,
            "min_height": null,
            "min_width": null,
            "object_fit": null,
            "object_position": null,
            "order": null,
            "overflow": null,
            "overflow_x": null,
            "overflow_y": null,
            "padding": null,
            "right": null,
            "top": null,
            "visibility": null,
            "width": null
          }
        },
        "204a211a8bce463aa58053ebeb93d1f0": {
          "model_module": "@jupyter-widgets/controls",
          "model_name": "ProgressStyleModel",
          "model_module_version": "1.5.0",
          "state": {
            "_model_module": "@jupyter-widgets/controls",
            "_model_module_version": "1.5.0",
            "_model_name": "ProgressStyleModel",
            "_view_count": null,
            "_view_module": "@jupyter-widgets/base",
            "_view_module_version": "1.2.0",
            "_view_name": "StyleView",
            "bar_color": null,
            "description_width": ""
          }
        },
        "7fb7246096e54051b3f1a855c6acbbc7": {
          "model_module": "@jupyter-widgets/base",
          "model_name": "LayoutModel",
          "model_module_version": "1.2.0",
          "state": {
            "_model_module": "@jupyter-widgets/base",
            "_model_module_version": "1.2.0",
            "_model_name": "LayoutModel",
            "_view_count": null,
            "_view_module": "@jupyter-widgets/base",
            "_view_module_version": "1.2.0",
            "_view_name": "LayoutView",
            "align_content": null,
            "align_items": null,
            "align_self": null,
            "border": null,
            "bottom": null,
            "display": null,
            "flex": null,
            "flex_flow": null,
            "grid_area": null,
            "grid_auto_columns": null,
            "grid_auto_flow": null,
            "grid_auto_rows": null,
            "grid_column": null,
            "grid_gap": null,
            "grid_row": null,
            "grid_template_areas": null,
            "grid_template_columns": null,
            "grid_template_rows": null,
            "height": null,
            "justify_content": null,
            "justify_items": null,
            "left": null,
            "margin": null,
            "max_height": null,
            "max_width": null,
            "min_height": null,
            "min_width": null,
            "object_fit": null,
            "object_position": null,
            "order": null,
            "overflow": null,
            "overflow_x": null,
            "overflow_y": null,
            "padding": null,
            "right": null,
            "top": null,
            "visibility": null,
            "width": null
          }
        },
        "51cd1649cb9f4e24a888bce5175aabc7": {
          "model_module": "@jupyter-widgets/controls",
          "model_name": "DescriptionStyleModel",
          "model_module_version": "1.5.0",
          "state": {
            "_model_module": "@jupyter-widgets/controls",
            "_model_module_version": "1.5.0",
            "_model_name": "DescriptionStyleModel",
            "_view_count": null,
            "_view_module": "@jupyter-widgets/base",
            "_view_module_version": "1.2.0",
            "_view_name": "StyleView",
            "description_width": ""
          }
        }
      }
    }
  },
  "cells": [
    {
      "cell_type": "markdown",
      "source": [
        "# **DistilBERT for Sarcasm detection**"
      ],
      "metadata": {
        "id": "rQQLWvcb-DYA"
      }
    },
    {
      "cell_type": "code",
      "source": [
        "import numpy as np\n",
        "import pandas as pd\n",
        "import matplotlib.pyplot as plt\n",
        "!pip install transformers\n",
        "from transformers import get_linear_schedule_with_warmup\n",
        "from tokenizers.processors import BertProcessing\n",
        "from __future__ import absolute_import\n",
        "from __future__ import division\n",
        "from __future__ import print_function\n",
        "from __future__ import unicode_literals\n",
        "import torch\n",
        "from torch.jit import script, trace\n",
        "import torch.nn as nn\n",
        "from torch import optim\n",
        "import torch.nn.functional as F\n",
        "import numpy as np\n",
        "import csv\n",
        "import random\n",
        "import re\n",
        "import os\n",
        "import unicodedata\n",
        "import codecs\n",
        "from io import open\n",
        "import itertools\n",
        "import math\n",
        "import pickle\n",
        "import statistics\n",
        "from torch.utils.data import Dataset, DataLoader\n",
        "from torch.nn.utils.rnn import pad_sequence\n",
        "import tqdm\n",
        "import nltk\n",
        "from google.colab import files"
      ],
      "metadata": {
        "colab": {
          "base_uri": "https://localhost:8080/"
        },
        "id": "4Le5J0Lq6Bp_",
        "outputId": "825d5a47-d321-4361-a0a0-c9e2816c135a"
      },
      "execution_count": null,
      "outputs": [
        {
          "output_type": "stream",
          "name": "stdout",
          "text": [
            "Looking in indexes: https://pypi.org/simple, https://us-python.pkg.dev/colab-wheels/public/simple/\n",
            "Collecting transformers\n",
            "  Downloading transformers-4.25.1-py3-none-any.whl (5.8 MB)\n",
            "\u001b[K     |████████████████████████████████| 5.8 MB 23.5 MB/s \n",
            "\u001b[?25hRequirement already satisfied: packaging>=20.0 in /usr/local/lib/python3.8/dist-packages (from transformers) (21.3)\n",
            "Requirement already satisfied: requests in /usr/local/lib/python3.8/dist-packages (from transformers) (2.23.0)\n",
            "Requirement already satisfied: regex!=2019.12.17 in /usr/local/lib/python3.8/dist-packages (from transformers) (2022.6.2)\n",
            "Requirement already satisfied: tqdm>=4.27 in /usr/local/lib/python3.8/dist-packages (from transformers) (4.64.1)\n",
            "Collecting huggingface-hub<1.0,>=0.10.0\n",
            "  Downloading huggingface_hub-0.11.1-py3-none-any.whl (182 kB)\n",
            "\u001b[K     |████████████████████████████████| 182 kB 56.0 MB/s \n",
            "\u001b[?25hCollecting tokenizers!=0.11.3,<0.14,>=0.11.1\n",
            "  Downloading tokenizers-0.13.2-cp38-cp38-manylinux_2_17_x86_64.manylinux2014_x86_64.whl (7.6 MB)\n",
            "\u001b[K     |████████████████████████████████| 7.6 MB 64.1 MB/s \n",
            "\u001b[?25hRequirement already satisfied: pyyaml>=5.1 in /usr/local/lib/python3.8/dist-packages (from transformers) (6.0)\n",
            "Requirement already satisfied: filelock in /usr/local/lib/python3.8/dist-packages (from transformers) (3.8.0)\n",
            "Requirement already satisfied: numpy>=1.17 in /usr/local/lib/python3.8/dist-packages (from transformers) (1.21.6)\n",
            "Requirement already satisfied: typing-extensions>=3.7.4.3 in /usr/local/lib/python3.8/dist-packages (from huggingface-hub<1.0,>=0.10.0->transformers) (4.4.0)\n",
            "Requirement already satisfied: pyparsing!=3.0.5,>=2.0.2 in /usr/local/lib/python3.8/dist-packages (from packaging>=20.0->transformers) (3.0.9)\n",
            "Requirement already satisfied: chardet<4,>=3.0.2 in /usr/local/lib/python3.8/dist-packages (from requests->transformers) (3.0.4)\n",
            "Requirement already satisfied: urllib3!=1.25.0,!=1.25.1,<1.26,>=1.21.1 in /usr/local/lib/python3.8/dist-packages (from requests->transformers) (1.24.3)\n",
            "Requirement already satisfied: certifi>=2017.4.17 in /usr/local/lib/python3.8/dist-packages (from requests->transformers) (2022.9.24)\n",
            "Requirement already satisfied: idna<3,>=2.5 in /usr/local/lib/python3.8/dist-packages (from requests->transformers) (2.10)\n",
            "Installing collected packages: tokenizers, huggingface-hub, transformers\n",
            "Successfully installed huggingface-hub-0.11.1 tokenizers-0.13.2 transformers-4.25.1\n"
          ]
        }
      ]
    },
    {
      "cell_type": "code",
      "source": [
        "device = torch.device('cuda' if torch.cuda.is_available() else 'cpu')"
      ],
      "metadata": {
        "id": "GawQsSp8R-Tt"
      },
      "execution_count": null,
      "outputs": []
    },
    {
      "cell_type": "code",
      "source": [
        "!unzip files.zip"
      ],
      "metadata": {
        "colab": {
          "base_uri": "https://localhost:8080/"
        },
        "id": "qBPKtsCr64Fx",
        "outputId": "b118f9eb-1a91-40ae-afc4-7c22d4926083"
      },
      "execution_count": null,
      "outputs": [
        {
          "output_type": "stream",
          "name": "stdout",
          "text": [
            "Archive:  files.zip\n",
            "   creating: files/\n",
            "  inflating: files/train_labels.npy  \n",
            "  inflating: files/responses.npy     \n"
          ]
        }
      ]
    },
    {
      "cell_type": "markdown",
      "source": [
        "Truncate data"
      ],
      "metadata": {
        "id": "VMHPoWIu-J47"
      }
    },
    {
      "cell_type": "code",
      "source": [
        "responses = np.load('files/responses.npy')\n",
        "responses = responses[:60000]\n",
        "train_labels = np.load('files/train_labels.npy')\n",
        "train_labels = train_labels[:60000]"
      ],
      "metadata": {
        "id": "DQx79FYw7AeK"
      },
      "execution_count": null,
      "outputs": []
    },
    {
      "cell_type": "code",
      "source": [
        "comment_label = np.array([a[0] for a in train_labels])\n",
        "responses_concat = np.array([a[0] + '. '+ a[1] for a in responses])"
      ],
      "metadata": {
        "id": "W3GdQEkg7fbc"
      },
      "execution_count": null,
      "outputs": []
    },
    {
      "cell_type": "code",
      "source": [
        "def make_words(s):\n",
        "  w = s.split(' ')\n",
        "  return ' '.join(w[:500])"
      ],
      "metadata": {
        "id": "6www7GxzDV5V"
      },
      "execution_count": null,
      "outputs": []
    },
    {
      "cell_type": "code",
      "source": [
        "dict_df = {'text' : responses_concat, 'target' : comment_label}\n",
        "full_df = pd.DataFrame(dict_df)\n",
        "full_df['text_len'] = full_df['text'].apply(lambda x: len(make_words(x)))\n",
        "full_df['text'] = full_df['text'].apply(lambda x: make_words(x))\n",
        "full_df = full_df[full_df['text_len']<510]"
      ],
      "metadata": {
        "id": "s01A-v-98qbW"
      },
      "execution_count": null,
      "outputs": []
    },
    {
      "cell_type": "code",
      "source": [
        "full_df = full_df[['text', 'target']]\n",
        "full_df['target'] = full_df['target'].astype(np.int64)\n",
        "full_df['text'] = full_df['text'].astype(str)"
      ],
      "metadata": {
        "id": "leCQ1ld0RznJ"
      },
      "execution_count": null,
      "outputs": []
    },
    {
      "cell_type": "code",
      "source": [
        "full_df.head()"
      ],
      "metadata": {
        "colab": {
          "base_uri": "https://localhost:8080/",
          "height": 206
        },
        "id": "fQ40hYcK9LuS",
        "outputId": "7aa2436c-0a7f-41d2-cb40-a0f230941fa1"
      },
      "execution_count": null,
      "outputs": [
        {
          "output_type": "execute_result",
          "data": {
            "text/plain": [
              "                                                text target\n",
              "0                      religion must have the answer      1\n",
              "1  wow...he smoked pot...oh lord hes such a horri...      1\n",
              "2  i think the government should track every morm...      0\n",
              "3  oh right, *both* wars were just jewish conspir...      1\n",
              "4                               good luck with that.      1"
            ],
            "text/html": [
              "\n",
              "  <div id=\"df-13a07e4e-08a2-4d52-bcaf-fbd1a5cd8c5c\">\n",
              "    <div class=\"colab-df-container\">\n",
              "      <div>\n",
              "<style scoped>\n",
              "    .dataframe tbody tr th:only-of-type {\n",
              "        vertical-align: middle;\n",
              "    }\n",
              "\n",
              "    .dataframe tbody tr th {\n",
              "        vertical-align: top;\n",
              "    }\n",
              "\n",
              "    .dataframe thead th {\n",
              "        text-align: right;\n",
              "    }\n",
              "</style>\n",
              "<table border=\"1\" class=\"dataframe\">\n",
              "  <thead>\n",
              "    <tr style=\"text-align: right;\">\n",
              "      <th></th>\n",
              "      <th>text</th>\n",
              "      <th>target</th>\n",
              "    </tr>\n",
              "  </thead>\n",
              "  <tbody>\n",
              "    <tr>\n",
              "      <th>0</th>\n",
              "      <td>religion must have the answer</td>\n",
              "      <td>1</td>\n",
              "    </tr>\n",
              "    <tr>\n",
              "      <th>1</th>\n",
              "      <td>wow...he smoked pot...oh lord hes such a horri...</td>\n",
              "      <td>1</td>\n",
              "    </tr>\n",
              "    <tr>\n",
              "      <th>2</th>\n",
              "      <td>i think the government should track every morm...</td>\n",
              "      <td>0</td>\n",
              "    </tr>\n",
              "    <tr>\n",
              "      <th>3</th>\n",
              "      <td>oh right, *both* wars were just jewish conspir...</td>\n",
              "      <td>1</td>\n",
              "    </tr>\n",
              "    <tr>\n",
              "      <th>4</th>\n",
              "      <td>good luck with that.</td>\n",
              "      <td>1</td>\n",
              "    </tr>\n",
              "  </tbody>\n",
              "</table>\n",
              "</div>\n",
              "      <button class=\"colab-df-convert\" onclick=\"convertToInteractive('df-13a07e4e-08a2-4d52-bcaf-fbd1a5cd8c5c')\"\n",
              "              title=\"Convert this dataframe to an interactive table.\"\n",
              "              style=\"display:none;\">\n",
              "        \n",
              "  <svg xmlns=\"http://www.w3.org/2000/svg\" height=\"24px\"viewBox=\"0 0 24 24\"\n",
              "       width=\"24px\">\n",
              "    <path d=\"M0 0h24v24H0V0z\" fill=\"none\"/>\n",
              "    <path d=\"M18.56 5.44l.94 2.06.94-2.06 2.06-.94-2.06-.94-.94-2.06-.94 2.06-2.06.94zm-11 1L8.5 8.5l.94-2.06 2.06-.94-2.06-.94L8.5 2.5l-.94 2.06-2.06.94zm10 10l.94 2.06.94-2.06 2.06-.94-2.06-.94-.94-2.06-.94 2.06-2.06.94z\"/><path d=\"M17.41 7.96l-1.37-1.37c-.4-.4-.92-.59-1.43-.59-.52 0-1.04.2-1.43.59L10.3 9.45l-7.72 7.72c-.78.78-.78 2.05 0 2.83L4 21.41c.39.39.9.59 1.41.59.51 0 1.02-.2 1.41-.59l7.78-7.78 2.81-2.81c.8-.78.8-2.07 0-2.86zM5.41 20L4 18.59l7.72-7.72 1.47 1.35L5.41 20z\"/>\n",
              "  </svg>\n",
              "      </button>\n",
              "      \n",
              "  <style>\n",
              "    .colab-df-container {\n",
              "      display:flex;\n",
              "      flex-wrap:wrap;\n",
              "      gap: 12px;\n",
              "    }\n",
              "\n",
              "    .colab-df-convert {\n",
              "      background-color: #E8F0FE;\n",
              "      border: none;\n",
              "      border-radius: 50%;\n",
              "      cursor: pointer;\n",
              "      display: none;\n",
              "      fill: #1967D2;\n",
              "      height: 32px;\n",
              "      padding: 0 0 0 0;\n",
              "      width: 32px;\n",
              "    }\n",
              "\n",
              "    .colab-df-convert:hover {\n",
              "      background-color: #E2EBFA;\n",
              "      box-shadow: 0px 1px 2px rgba(60, 64, 67, 0.3), 0px 1px 3px 1px rgba(60, 64, 67, 0.15);\n",
              "      fill: #174EA6;\n",
              "    }\n",
              "\n",
              "    [theme=dark] .colab-df-convert {\n",
              "      background-color: #3B4455;\n",
              "      fill: #D2E3FC;\n",
              "    }\n",
              "\n",
              "    [theme=dark] .colab-df-convert:hover {\n",
              "      background-color: #434B5C;\n",
              "      box-shadow: 0px 1px 3px 1px rgba(0, 0, 0, 0.15);\n",
              "      filter: drop-shadow(0px 1px 2px rgba(0, 0, 0, 0.3));\n",
              "      fill: #FFFFFF;\n",
              "    }\n",
              "  </style>\n",
              "\n",
              "      <script>\n",
              "        const buttonEl =\n",
              "          document.querySelector('#df-13a07e4e-08a2-4d52-bcaf-fbd1a5cd8c5c button.colab-df-convert');\n",
              "        buttonEl.style.display =\n",
              "          google.colab.kernel.accessAllowed ? 'block' : 'none';\n",
              "\n",
              "        async function convertToInteractive(key) {\n",
              "          const element = document.querySelector('#df-13a07e4e-08a2-4d52-bcaf-fbd1a5cd8c5c');\n",
              "          const dataTable =\n",
              "            await google.colab.kernel.invokeFunction('convertToInteractive',\n",
              "                                                     [key], {});\n",
              "          if (!dataTable) return;\n",
              "\n",
              "          const docLinkHtml = 'Like what you see? Visit the ' +\n",
              "            '<a target=\"_blank\" href=https://colab.research.google.com/notebooks/data_table.ipynb>data table notebook</a>'\n",
              "            + ' to learn more about interactive tables.';\n",
              "          element.innerHTML = '';\n",
              "          dataTable['output_type'] = 'display_data';\n",
              "          await google.colab.output.renderOutput(dataTable, element);\n",
              "          const docLink = document.createElement('div');\n",
              "          docLink.innerHTML = docLinkHtml;\n",
              "          element.appendChild(docLink);\n",
              "        }\n",
              "      </script>\n",
              "    </div>\n",
              "  </div>\n",
              "  "
            ]
          },
          "metadata": {},
          "execution_count": 14
        }
      ]
    },
    {
      "cell_type": "markdown",
      "source": [
        "Preprocess"
      ],
      "metadata": {
        "id": "YRFUQVPA8ejJ"
      }
    },
    {
      "cell_type": "code",
      "source": [
        "import pandas as pd\n",
        "import numpy as np\n",
        "import sys\n",
        "from functools import partial\n",
        "import time"
      ],
      "metadata": {
        "id": "6TqykPcs8J85"
      },
      "execution_count": null,
      "outputs": []
    },
    {
      "cell_type": "code",
      "source": [
        "#divide data into train, validation, and test datasets\n",
        "num_com = len(full_df)\n",
        "idxs = list(range(num_com))\n",
        "print('Total comments in dataset: ', num_com)\n",
        "test_idx = idxs[:int(0.1*num_com)]\n",
        "val_idx = idxs[int(0.1*num_com):int(0.2*num_com)]\n",
        "train_idx = idxs[int(0.2*num_com):]\n",
        "\n",
        "train_df = full_df.iloc[train_idx].reset_index(drop=True)\n",
        "val_df = full_df.iloc[val_idx].reset_index(drop=True)\n",
        "test_df = full_df.iloc[test_idx].reset_index(drop=True)\n",
        "\n",
        "train_data = train_df[['text', 'target']]\n",
        "val_data   = val_df[['text', 'target']]\n",
        "test_data  = test_df[['text', 'target']]"
      ],
      "metadata": {
        "colab": {
          "base_uri": "https://localhost:8080/"
        },
        "id": "-mnqgVik8pLm",
        "outputId": "0a652835-6216-49d6-dd66-00def5e434cd"
      },
      "execution_count": null,
      "outputs": [
        {
          "output_type": "stream",
          "name": "stdout",
          "text": [
            "Total tweets in dataset:  59987\n"
          ]
        }
      ]
    },
    {
      "cell_type": "code",
      "source": [
        "#Defining torch dataset class for disaster tweet dataset\n",
        "class SARCDataset(Dataset):\n",
        "    def __init__(self, df):\n",
        "        self.df = df\n",
        "\n",
        "    def __len__(self):\n",
        "        return len(self.df)\n",
        "\n",
        "    def __getitem__(self, idx):\n",
        "        return self.df.iloc[idx]"
      ],
      "metadata": {
        "id": "8dm6BxV4-I0c"
      },
      "execution_count": null,
      "outputs": []
    },
    {
      "cell_type": "code",
      "source": [
        "#set up train, validation, and testing datasets\n",
        "train_dataset = SARCDataset(train_data)\n",
        "val_dataset   = SARCDataset(val_data)\n",
        "test_dataset  = SARCDataset(test_data)"
      ],
      "metadata": {
        "id": "30mBMiXV-ahi"
      },
      "execution_count": null,
      "outputs": []
    },
    {
      "cell_type": "code",
      "source": [
        "def transformer_collate_fn(batch, tokenizer):\n",
        "  bert_vocab = tokenizer.get_vocab()\n",
        "  bert_pad_token = bert_vocab['[PAD]']\n",
        "  bert_unk_token = bert_vocab['[UNK]']\n",
        "  bert_cls_token = bert_vocab['[CLS]']\n",
        "  \n",
        "  sentences, labels, masks = [], [], []\n",
        "  for data in batch:\n",
        "    tokenizer_output = tokenizer([data['text']], max_length = 600, truncation=True)\n",
        "    tokenized_sent = tokenizer_output['input_ids'][0]\n",
        "    mask = tokenizer_output['attention_mask'][0]\n",
        "    sentences.append(torch.tensor(tokenized_sent))\n",
        "    labels.append(torch.tensor(data['target']))\n",
        "    masks.append(torch.tensor(mask))\n",
        "  sentences = pad_sequence(sentences, batch_first=True, padding_value=bert_pad_token)\n",
        "  labels = torch.stack(labels, dim=0)\n",
        "  masks = pad_sequence(masks, batch_first=True, padding_value=0.0)\n",
        "  return sentences, labels, masks"
      ],
      "metadata": {
        "id": "65ZH4-CY-cuT"
      },
      "execution_count": null,
      "outputs": []
    },
    {
      "cell_type": "code",
      "source": [
        "#computes the amount of time that a training epoch took and displays it in human readable form\n",
        "def epoch_time(start_time: int,\n",
        "               end_time: int):\n",
        "    elapsed_time = end_time - start_time\n",
        "    elapsed_mins = int(elapsed_time / 60)\n",
        "    elapsed_secs = int(elapsed_time - (elapsed_mins * 60))\n",
        "    return elapsed_mins, elapsed_secs"
      ],
      "metadata": {
        "id": "PJJDAnUm-gcH"
      },
      "execution_count": null,
      "outputs": []
    },
    {
      "cell_type": "code",
      "source": [
        "#count the number of trainable parameters in the model\n",
        "def count_parameters(model: nn.Module):\n",
        "    return sum(p.numel() for p in model.parameters() if p.requires_grad)"
      ],
      "metadata": {
        "id": "H2LATXCG-jNQ"
      },
      "execution_count": null,
      "outputs": []
    },
    {
      "cell_type": "code",
      "source": [
        "#train a given model, using a pytorch dataloader, optimizer, and scheduler (if provided)\n",
        "def train(model,\n",
        "          dataloader,\n",
        "          optimizer,\n",
        "          device,\n",
        "          clip: float,\n",
        "          scheduler = None):\n",
        "\n",
        "    model.train()\n",
        "\n",
        "    epoch_loss = 0\n",
        "\n",
        "    for batch in dataloader:\n",
        "        sentences, labels, masks = batch[0], batch[1], batch[2]\n",
        "\n",
        "        optimizer.zero_grad()\n",
        "\n",
        "        output = model(sentences.to(device), masks.to(device))\n",
        "        loss = F.cross_entropy(output, labels.to(device))\n",
        "        loss.backward()\n",
        "        torch.nn.utils.clip_grad_norm_(model.parameters(), clip)\n",
        "        \n",
        "        optimizer.step()\n",
        "        if scheduler is not None:\n",
        "          scheduler.step()\n",
        "          \n",
        "        epoch_loss += loss.item()\n",
        "    return epoch_loss / len(dataloader)"
      ],
      "metadata": {
        "id": "z8IwfAul-npG"
      },
      "execution_count": null,
      "outputs": []
    },
    {
      "cell_type": "code",
      "source": [
        "#calculate the loss from the model on the provided dataloader\n",
        "def evaluate(model,\n",
        "             dataloader,\n",
        "             device):\n",
        "\n",
        "    model.eval()\n",
        "\n",
        "    epoch_loss = 0\n",
        "    with torch.no_grad():\n",
        "      for batch in dataloader:\n",
        "          sentences, labels, masks = batch[0], batch[1], batch[2]\n",
        "          output = model(sentences.to(device), masks.to(device))\n",
        "          loss = F.cross_entropy(output, labels.to(device))\n",
        "            \n",
        "          epoch_loss += loss.item()\n",
        "    return epoch_loss / len(dataloader)"
      ],
      "metadata": {
        "id": "JIfG0cVD-omr"
      },
      "execution_count": null,
      "outputs": []
    },
    {
      "cell_type": "code",
      "source": [
        "#calculate the prediction accuracy on the provided dataloader\n",
        "def evaluate_acc(model,\n",
        "                 dataloader,\n",
        "                 device):\n",
        "\n",
        "    model.eval()\n",
        "\n",
        "    epoch_loss = 0\n",
        "    with torch.no_grad():\n",
        "      total_correct = 0\n",
        "      total = 0\n",
        "      for i, batch in enumerate(dataloader):\n",
        "          \n",
        "          sentences, labels, masks = batch[0], batch[1], batch[2]\n",
        "          output = model(sentences.to(device), masks.to(device))\n",
        "          output = F.softmax(output, dim=1)\n",
        "          output_class = torch.argmax(output, dim=1)\n",
        "          total_correct += torch.sum(torch.where(output_class == labels.to(device), 1, 0))\n",
        "          total += sentences.size()[0]\n",
        "\n",
        "    return total_correct / total"
      ],
      "metadata": {
        "id": "3U6zaVcg-sAr"
      },
      "execution_count": null,
      "outputs": []
    },
    {
      "cell_type": "code",
      "source": [
        "!pip install torchmetrics"
      ],
      "metadata": {
        "colab": {
          "base_uri": "https://localhost:8080/"
        },
        "id": "esnPkPwdLlNE",
        "outputId": "1382c2ea-de3c-4e7f-9f83-af68c65ae52d"
      },
      "execution_count": null,
      "outputs": [
        {
          "output_type": "stream",
          "name": "stdout",
          "text": [
            "Looking in indexes: https://pypi.org/simple, https://us-python.pkg.dev/colab-wheels/public/simple/\n",
            "Collecting torchmetrics\n",
            "  Downloading torchmetrics-0.11.0-py3-none-any.whl (512 kB)\n",
            "\u001b[K     |████████████████████████████████| 512 kB 30.6 MB/s \n",
            "\u001b[?25hRequirement already satisfied: torch>=1.8.1 in /usr/local/lib/python3.8/dist-packages (from torchmetrics) (1.13.0+cu116)\n",
            "Requirement already satisfied: numpy>=1.17.2 in /usr/local/lib/python3.8/dist-packages (from torchmetrics) (1.21.6)\n",
            "Requirement already satisfied: packaging in /usr/local/lib/python3.8/dist-packages (from torchmetrics) (21.3)\n",
            "Requirement already satisfied: typing-extensions in /usr/local/lib/python3.8/dist-packages (from torchmetrics) (4.4.0)\n",
            "Requirement already satisfied: pyparsing!=3.0.5,>=2.0.2 in /usr/local/lib/python3.8/dist-packages (from packaging->torchmetrics) (3.0.9)\n",
            "Installing collected packages: torchmetrics\n",
            "Successfully installed torchmetrics-0.11.0\n"
          ]
        }
      ]
    },
    {
      "cell_type": "code",
      "source": [
        "from torchmetrics.classification import BinaryF1Score\n",
        "f1_score = BinaryF1Score().to(device)"
      ],
      "metadata": {
        "id": "VWX9OEuPLfIg"
      },
      "execution_count": null,
      "outputs": []
    },
    {
      "cell_type": "code",
      "source": [
        "#calculate the prediction accuracy on the provided dataloader\n",
        "def evaluate_f1(model,\n",
        "                 dataloader,\n",
        "                 device):\n",
        "\n",
        "    model.eval()\n",
        "\n",
        "    epoch_loss = 0\n",
        "    with torch.no_grad():\n",
        "      total_correct = 0\n",
        "      total = 0\n",
        "      preds = []\n",
        "      labs = []\n",
        "      for i, batch in enumerate(dataloader):\n",
        "          \n",
        "          sentences, labels, masks = batch[0], batch[1], batch[2]\n",
        "          output = model(sentences.to(device), masks.to(device))\n",
        "          output = F.softmax(output, dim=1)\n",
        "          output_class = torch.argmax(output, dim=1)\n",
        "          \n",
        "          preds.append(output_class)\n",
        "          labs.append(labels)\n",
        "      \n",
        "      preds = torch.cat(preds).to(device)\n",
        "      labs = torch.cat(labs).to(device)\n",
        "    return f1_score(preds, labs)"
      ],
      "metadata": {
        "id": "s9uhhud4Ipxd"
      },
      "execution_count": null,
      "outputs": []
    },
    {
      "cell_type": "code",
      "source": [
        "bert_model_name = 'distilbert-base-uncased' \n",
        "\n",
        "##YOUR CODE HERE##\n",
        "\n",
        "from transformers import DistilBertModel, DistilBertTokenizer\n",
        "bert_model = DistilBertModel.from_pretrained(bert_model_name)\n",
        "tokenizer = DistilBertTokenizer.from_pretrained(bert_model_name)"
      ],
      "metadata": {
        "colab": {
          "base_uri": "https://localhost:8080/",
          "height": 220,
          "referenced_widgets": [
            "be4c09b4dde64726afd28256527d86c9",
            "d3861ab3947c40edae6a5201cc0ccbf8",
            "d8f0ea4630df4922a5fba51ced20a966",
            "c30ba7368b7242a48449155ef96d3513",
            "0b8645a667c14ef58db32ed35cb05d29",
            "24a953115e6f449ea50052405628f024",
            "a3980e00807f4809b4345d9cb6cc0c76",
            "5437ea87aede4f448c141d6a3b8345e3",
            "2fc999611d0e4da499541e851ca54235",
            "9d0450ac6158429189b5a099ef2880a8",
            "dfb11b3b74c24be3b93eac743c259283",
            "0297f1d79829410c801f3f02768ba0cd",
            "527c619d9e814dfd9ac16ad05b596d79",
            "61f888dc5aff4945b3799aae7580fc4d",
            "6189ade215cd4a67852d458223dd87bb",
            "159ccdba07034d04ba5cc31c5dd4d797",
            "dcd7eb61bee64c2cae6d9a780581b5e2",
            "93911eebaca948df92f9f52f89983f0a",
            "ed8718ddfaec44d6a05ac7c2bf039e9c",
            "3dd3e81cee824f90a8c74bafab786b6e",
            "b1fdffdfcab64cfca769b98eea10d620",
            "8f0c1fd503124dbc9b7acf704643762f",
            "64c793ffde0941a7a16702a201fd6e73",
            "e108874d098e43e99e44e15e65e25071",
            "fb7f68d35021410abd8e407566455689",
            "f0f97389d85e45c2bfc68a284b9747a4",
            "62ee28c45f834231b5c46ec7de43bff6",
            "814864a3c4fb408f9cd282d14c2a548e",
            "4d0bcf23f87d49169f332081b190556f",
            "aa7f902df64e46fb9127bf4f8f70d506",
            "a79ad11a0dd44d3191dbe3076066b00b",
            "c14cd230a73b460797ede49b8d1c46ca",
            "4d0ea48faf75411282624958d8e83726",
            "b6bf9b1999ef4bb29fac1b48ee34fee3",
            "44cf55a31d224af8ad99813e4cc3f638",
            "d8f3f2b9b0e6421590a918fd9eabd04e",
            "87e5aed0e9214beba4898d277ced4fe4",
            "a69d3621e97242ddb74343ff5d3afda4",
            "2c55010ac0b9475aae5b19d16581e0fc",
            "23c3c665557a4461ac3edbc44d4eb242",
            "4b0c2b5d2cde45f49f07bbe29186fd22",
            "204a211a8bce463aa58053ebeb93d1f0",
            "7fb7246096e54051b3f1a855c6acbbc7",
            "51cd1649cb9f4e24a888bce5175aabc7"
          ]
        },
        "id": "rkzm8BdT6a1I",
        "outputId": "3bcadd68-0d43-4488-b428-88187f39dd90"
      },
      "execution_count": null,
      "outputs": [
        {
          "output_type": "display_data",
          "data": {
            "text/plain": [
              "Downloading:   0%|          | 0.00/483 [00:00<?, ?B/s]"
            ],
            "application/vnd.jupyter.widget-view+json": {
              "version_major": 2,
              "version_minor": 0,
              "model_id": "be4c09b4dde64726afd28256527d86c9"
            }
          },
          "metadata": {}
        },
        {
          "output_type": "display_data",
          "data": {
            "text/plain": [
              "Downloading:   0%|          | 0.00/268M [00:00<?, ?B/s]"
            ],
            "application/vnd.jupyter.widget-view+json": {
              "version_major": 2,
              "version_minor": 0,
              "model_id": "0297f1d79829410c801f3f02768ba0cd"
            }
          },
          "metadata": {}
        },
        {
          "output_type": "stream",
          "name": "stderr",
          "text": [
            "Some weights of the model checkpoint at distilbert-base-uncased were not used when initializing DistilBertModel: ['vocab_layer_norm.bias', 'vocab_transform.bias', 'vocab_projector.bias', 'vocab_transform.weight', 'vocab_projector.weight', 'vocab_layer_norm.weight']\n",
            "- This IS expected if you are initializing DistilBertModel from the checkpoint of a model trained on another task or with another architecture (e.g. initializing a BertForSequenceClassification model from a BertForPreTraining model).\n",
            "- This IS NOT expected if you are initializing DistilBertModel from the checkpoint of a model that you expect to be exactly identical (initializing a BertForSequenceClassification model from a BertForSequenceClassification model).\n"
          ]
        },
        {
          "output_type": "display_data",
          "data": {
            "text/plain": [
              "Downloading:   0%|          | 0.00/232k [00:00<?, ?B/s]"
            ],
            "application/vnd.jupyter.widget-view+json": {
              "version_major": 2,
              "version_minor": 0,
              "model_id": "64c793ffde0941a7a16702a201fd6e73"
            }
          },
          "metadata": {}
        },
        {
          "output_type": "display_data",
          "data": {
            "text/plain": [
              "Downloading:   0%|          | 0.00/28.0 [00:00<?, ?B/s]"
            ],
            "application/vnd.jupyter.widget-view+json": {
              "version_major": 2,
              "version_minor": 0,
              "model_id": "b6bf9b1999ef4bb29fac1b48ee34fee3"
            }
          },
          "metadata": {}
        }
      ]
    },
    {
      "cell_type": "code",
      "source": [
        "class SARCClassifier(nn.Module):\n",
        "    def __init__(self,\n",
        "                 bert_encoder: nn.Module,\n",
        "                 enc_hid_dim=768, #default embedding size\n",
        "                 outputs=2,\n",
        "                 dropout=0.1):\n",
        "        super().__init__()\n",
        "\n",
        "        self.bert_encoder = bert_encoder\n",
        "\n",
        "        self.enc_hid_dim = enc_hid_dim\n",
        "        \n",
        "        ### YOUR CODE HERE ### \n",
        "        self.dropout = nn.Dropout(dropout)\n",
        "\n",
        "        self.fc = nn.Linear(enc_hid_dim, outputs)\n",
        "\n",
        "    def forward(self,\n",
        "                src,\n",
        "                mask):\n",
        "        bert_output = self.bert_encoder(src, mask)\n",
        "\n",
        "        ### YOUR CODE HERE ###\n",
        "        #output = self.bert_encoder(src, mask, return_dict = False)\n",
        "\n",
        "        output = self.dropout(bert_output[0])\n",
        "\n",
        "        output = self.fc(torch.max(output, dim = 1)[0])\n",
        "\n",
        "        #print(output.shape)\n",
        "\n",
        "        return output"
      ],
      "metadata": {
        "id": "rG79BK3g6hoz"
      },
      "execution_count": null,
      "outputs": []
    },
    {
      "cell_type": "code",
      "source": [
        "def init_weights(m: nn.Module, hidden_size=768):\n",
        "    k = 1/hidden_size\n",
        "    for name, param in m.named_parameters():\n",
        "        if 'weight' in name:\n",
        "            print(name)\n",
        "            nn.init.uniform_(param.data, a=-1*k**0.5, b=k**0.5)\n",
        "        else:\n",
        "            print(name)\n",
        "            nn.init.uniform_(param.data, 0)"
      ],
      "metadata": {
        "id": "jSsvZYGd6nOO"
      },
      "execution_count": null,
      "outputs": []
    },
    {
      "cell_type": "code",
      "source": [
        "def init_classification_head_weights(m: nn.Module, hidden_size=768):\n",
        "    k = 1/hidden_size\n",
        "    for name, param in m.named_parameters():\n",
        "        #if param.shape == torch.Size([2, 768]) or param.shape == torch.Size([2]):\n",
        "        if name == \"fc.weight\":\n",
        "          print(name)\n",
        "          nn.init.uniform_(param.data, a=-1*k**0.5, b=k**0.5)\n",
        "        elif name == \"fc.bias\":\n",
        "          print(name)\n",
        "          nn.init.uniform_(param.data, 0)"
      ],
      "metadata": {
        "id": "rMMVkIdT6oAk"
      },
      "execution_count": null,
      "outputs": []
    },
    {
      "cell_type": "code",
      "source": [
        "#define hyperparameters\n",
        "BATCH_SIZE = 10\n",
        "LR = 1e-5\n",
        "WEIGHT_DECAY = 0\n",
        "N_EPOCHS = 5\n",
        "CLIP = 1.0\n",
        "\n",
        "#define models, move to device, and initialize weights\n",
        "device = torch.device('cuda' if torch.cuda.is_available() else 'cpu')\n",
        "\n",
        "model = SARCClassifier(bert_model).to(device)\n",
        "model.apply(init_classification_head_weights)\n",
        "model.to(device)\n",
        "print('Model Initialized')"
      ],
      "metadata": {
        "colab": {
          "base_uri": "https://localhost:8080/"
        },
        "id": "Ibh5w1cr6q-s",
        "outputId": "bd7891cb-432e-460d-d896-4626621c7521"
      },
      "execution_count": null,
      "outputs": [
        {
          "output_type": "stream",
          "name": "stdout",
          "text": [
            "fc.weight\n",
            "fc.bias\n",
            "Model Initialized\n"
          ]
        }
      ]
    },
    {
      "cell_type": "code",
      "source": [
        "#create pytorch dataloaders from train_dataset, val_dataset, and test_datset\n",
        "train_dataloader = DataLoader(train_dataset,batch_size=BATCH_SIZE,collate_fn=partial(transformer_collate_fn, tokenizer=tokenizer), shuffle = True)\n",
        "val_dataloader = DataLoader(val_dataset,batch_size=BATCH_SIZE,collate_fn=partial(transformer_collate_fn, tokenizer=tokenizer))\n",
        "test_dataloader = DataLoader(test_dataset,batch_size=BATCH_SIZE,collate_fn=partial(transformer_collate_fn, tokenizer=tokenizer))"
      ],
      "metadata": {
        "id": "6yRyuJuD6y6S"
      },
      "execution_count": null,
      "outputs": []
    },
    {
      "cell_type": "code",
      "source": [
        "Valid_f1 = []\n",
        "Train_f1 = []\n",
        "Valid_acc = []\n",
        "Train_acc = []\n",
        "Valid_loss = []\n",
        "Train_loss = []\n",
        "Epochs = [0]"
      ],
      "metadata": {
        "id": "SuHGi1q1tip-"
      },
      "execution_count": null,
      "outputs": []
    },
    {
      "cell_type": "code",
      "source": [
        "optimizer = optim.Adam(model.parameters(), lr=LR)\n",
        "\n",
        "scheduler = get_linear_schedule_with_warmup(optimizer, num_warmup_steps=10, num_training_steps=N_EPOCHS*len(train_dataloader))\n",
        "\n",
        "print(f'The model has {count_parameters(model):,} trainable parameters')\n",
        "\n",
        "train_loss = evaluate(model, train_dataloader, device)\n",
        "train_acc = evaluate_acc(model, train_dataloader, device)\n",
        "train_f1 = evaluate_f1(model, train_dataloader, device)\n",
        "Train_loss.append(train_loss)\n",
        "Train_acc.append(train_acc)\n",
        "Train_f1.append(train_f1)\n",
        "\n",
        "valid_loss = evaluate(model, val_dataloader, device)\n",
        "valid_acc = evaluate_acc(model, val_dataloader, device)\n",
        "valid_f1 = evaluate_f1(model, val_dataloader, device)\n",
        "Valid_loss.append(valid_loss)\n",
        "Valid_acc.append(valid_acc)\n",
        "Valid_f1.append(valid_f1)\n",
        "\n",
        "print(f'Initial Train Loss: {train_loss:.3f}')\n",
        "print(f'Initial Train Acc: {train_acc:.3f}')\n",
        "print(f'Initial Train f1: {train_f1:.3f}')\n",
        "\n",
        "print(f'Initial Valid Loss: {valid_loss:.3f}')\n",
        "print(f'Initial Valid Acc: {valid_acc:.3f}')\n",
        "print(f'Initial Valid f1: {valid_f1:.3f}')\n",
        "\n",
        "for epoch in range(N_EPOCHS):\n",
        "    Epochs.append(epochs)\n",
        "\n",
        "    start_time = time.time()\n",
        "    train_loss = train(model, train_dataloader, optimizer, device, CLIP, scheduler)\n",
        "    Train_loss.append(train_loss)\n",
        "    end_time = time.time()\n",
        "\n",
        "    train_acc = evaluate_acc(model, train_dataloader, device)\n",
        "    Train_acc.append(train_acc)\n",
        "\n",
        "    train_f1 = evaluate_f1(model, train_dataloader, device)\n",
        "    Train_f1.append(train_f1)\n",
        "\n",
        "    valid_loss = evaluate(model, val_dataloader, device)\n",
        "    Valid_loss.append(valid_loss)\n",
        "\n",
        "    valid_acc = evaluate_acc(model, val_dataloader, device)\n",
        "    Valid_acc.append(valid_acc)\n",
        "\n",
        "    valid_f1 = evaluate_f1(model, val_dataloader, device)\n",
        "    Valid_f1.append(valid_f1)\n",
        "\n",
        "    epoch_mins, epoch_secs = epoch_time(start_time, end_time)\n",
        "\n",
        "    print(f'Epoch: {epoch+1:02} | Time: {epoch_mins}m {epoch_secs}s')\n",
        "    print(f'\\tTrain Loss: {train_loss:.3f}')\n",
        "    print(f'\\tTrain Acc: {train_acc:.3f}')\n",
        "    print(f'\\tTrain f1: {train_f1:.3f}')\n",
        "\n",
        "    print(f'\\tValid Loss: {valid_loss:.3f}')\n",
        "    print(f'\\tValid Acc: {valid_acc:.3f}')\n",
        "    print(f'\\tValid f1: {valid_f1:.3f}')\n"
      ],
      "metadata": {
        "colab": {
          "base_uri": "https://localhost:8080/"
        },
        "id": "xonCVpLg6zyb",
        "outputId": "7929e35a-4de7-4731-85a5-8dde6bd6c18e"
      },
      "execution_count": null,
      "outputs": [
        {
          "output_type": "stream",
          "name": "stdout",
          "text": [
            "The model has 66,364,418 trainable parameters\n",
            "Initial Train Loss: 0.699\n",
            "Initial Train Acc: 0.507\n",
            "Initial Train f1: 0.600\n",
            "Initial Valid Loss: 0.701\n",
            "Initial Valid Acc: 0.500\n",
            "Initial Valid f1: 0.594\n",
            "Epoch: 01 | Time: 5m 10s\n",
            "\tTrain Loss: 0.610\n",
            "\tTrain Acc: 0.735\n",
            "\tTrain f1: 0.712\n",
            "\tValid Loss: 0.594\n",
            "\tValid Acc: 0.681\n",
            "\tValid f1: 0.652\n",
            "Epoch: 02 | Time: 5m 19s\n",
            "\tTrain Loss: 0.529\n",
            "\tTrain Acc: 0.801\n",
            "\tTrain f1: 0.812\n",
            "\tValid Loss: 0.597\n",
            "\tValid Acc: 0.682\n",
            "\tValid f1: 0.700\n",
            "Epoch: 03 | Time: 5m 18s\n",
            "\tTrain Loss: 0.450\n",
            "\tTrain Acc: 0.869\n",
            "\tTrain f1: 0.869\n",
            "\tValid Loss: 0.620\n",
            "\tValid Acc: 0.684\n",
            "\tValid f1: 0.682\n",
            "Epoch: 04 | Time: 5m 20s\n",
            "\tTrain Loss: 0.372\n",
            "\tTrain Acc: 0.906\n",
            "\tTrain f1: 0.905\n",
            "\tValid Loss: 0.701\n",
            "\tValid Acc: 0.680\n",
            "\tValid f1: 0.674\n",
            "Epoch: 05 | Time: 5m 19s\n",
            "\tTrain Loss: 0.312\n",
            "\tTrain Acc: 0.916\n",
            "\tTrain f1: 0.916\n",
            "\tValid Loss: 0.787\n",
            "\tValid Acc: 0.674\n",
            "\tValid f1: 0.675\n"
          ]
        }
      ]
    },
    {
      "cell_type": "code",
      "source": [
        "import seaborn as sns\n",
        "import matplotlib.pyplot as plt\n",
        "\n",
        "sns.set_style('whitegrid')"
      ],
      "metadata": {
        "id": "7dwMgwo5e3jm"
      },
      "execution_count": null,
      "outputs": []
    },
    {
      "cell_type": "code",
      "source": [
        "valid_f1 = [0.664, 0.664, 0.756, 0.761, 0.756, 0.754]\n",
        "train_f1 = [0.665, 0.794, 0.851, 0.898, 0.925, 0.935]\n",
        "valid_acc = [0.497, 0.738, 0.755, 0.759, 0.757, 0.757]\n",
        "train_acc = [0.498, 0.792, 0.849, 0.898, 0.925, 0.925]\n",
        "valid_loss = [0.760, 0.520, 0.514, 0.539, 0.592, 0.660]\n",
        "train_loss = [0.762, 0.577, 0.451, 0.371, 0.299, 0.251]\n",
        "epochs = [0, 1, 2, 3, 4, 5]"
      ],
      "metadata": {
        "id": "OqvmGwpIIInJ"
      },
      "execution_count": null,
      "outputs": []
    },
    {
      "cell_type": "code",
      "source": [
        "l = [Valid_f1\n",
        ",Train_f1\n",
        ",Valid_acc\n",
        ",Train_acc\n",
        "]"
      ],
      "metadata": {
        "id": "7pi-XvAr8QAH"
      },
      "execution_count": null,
      "outputs": []
    },
    {
      "cell_type": "code",
      "source": [
        "for i in l:\n",
        "  for p in range(len(i)):\n",
        "    i[p] = i[p].detach().cpu().numpy()"
      ],
      "metadata": {
        "id": "mzntwzhO8pl6"
      },
      "execution_count": null,
      "outputs": []
    },
    {
      "cell_type": "code",
      "source": [
        "for i in l:\n",
        "  for p in range(len(i)):\n",
        "    i[p] = int(i[p])"
      ],
      "metadata": {
        "id": "z1KA-Hts986t"
      },
      "execution_count": null,
      "outputs": []
    },
    {
      "cell_type": "code",
      "source": [
        "Valid_f1 = [0.600, 0.712, 0.812, 0.869, 0.905, 0.916]\n",
        "Train_f1 = [0.594, 0.652, 0.700, 0.682, 0.674, 0.675]\n",
        "Valid_acc = [0.500, 0.681, 0.682, 0.684, 0.680, 0.674]\n",
        "Train_acc = [0.507, 0.735, 0.801, 0.869, 0.906, 0.916]"
      ],
      "metadata": {
        "id": "i6hP-t8N_mLI"
      },
      "execution_count": null,
      "outputs": []
    },
    {
      "cell_type": "code",
      "source": [
        "fig, axs = plt.subplots(3, 1, figsize = (5, 18), dpi =100)\n",
        "axs[0].plot(Epochs, Valid_f1, label = 'Valid F1 (Without reply)', color = 'r')\n",
        "axs[0].plot(Epochs, Train_f1, label = 'Train F1 (Without reply)', color = 'g')\n",
        "axs[0].plot(Epochs, valid_f1, label = 'Valid F1', color = 'b', marker = 'o')\n",
        "axs[0].plot(Epochs, train_f1, label = 'Train F1', color = 'orange', marker = 'o')\n",
        "\n",
        "axs[0].legend()\n",
        "axs[0].set_xlabel('Number of epochs')\n",
        "axs[0].set_ylabel('F1 score')\n",
        "axs[0].set_title('F1 score')\n",
        "# axs.set_xticklabels(labels = [0, 1, 2, 3, 4, 5])\n",
        "\n",
        "axs[1].plot(Epochs, Valid_acc, label = 'Valid Acc (Without reply)', color = 'r')\n",
        "axs[1].plot(Epochs, Train_acc, label = 'Train Acc (Without reply)', color = 'g')\n",
        "axs[1].plot(Epochs, valid_acc, label = 'Valid Acc', marker = 'o', color = 'b')\n",
        "axs[1].plot(Epochs, train_acc, label = 'Train Acc', marker = 'o', color = 'orange')\n",
        "\n",
        "axs[1].legend()\n",
        "axs[1].set_xlabel('Number of epochs')\n",
        "axs[1].set_ylabel('Accuracy')\n",
        "axs[1].set_title('Accuracy')\n",
        "\n",
        "axs[2].plot(Epochs, Valid_loss, label = 'Valid Loss (Without reply)', color = 'r')\n",
        "axs[2].plot(Epochs, Train_loss, label = 'Train Loss (Without reply)', color = 'g')\n",
        "axs[2].plot(Epochs, valid_loss, label = 'Valid Loss', marker = 'o', color = 'b')\n",
        "axs[2].plot(Epochs, train_loss, label = 'Train Loss', marker = 'o', color = 'orange')\n",
        "axs[2].set_title('Loss')\n",
        "\n",
        "axs[2].legend()\n",
        "axs[2].set_xlabel('Number of epochs')\n",
        "axs[2].set_ylabel('Loss')\n",
        "\n",
        "# fig.tight_layout()\n",
        "fig.suptitle('Metrics for BERT Model')\n",
        "plt.savefig('Bert_Com.png', dpi=100)"
      ],
      "metadata": {
        "colab": {
          "base_uri": "https://localhost:8080/",
          "height": 1000
        },
        "id": "Q1Bu9ap9fGTY",
        "outputId": "7ebca378-e891-4e7c-8319-94bfebed6f20"
      },
      "execution_count": null,
      "outputs": [
        {
          "output_type": "display_data",
          "data": {
            "text/plain": [
              "<Figure size 500x1800 with 3 Axes>"
            ],
            "image/png": "[encoded data removed]"
          },
          "metadata": {}
        }
      ]
    }
  ]
}